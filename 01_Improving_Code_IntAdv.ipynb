{
  "nbformat": 4,
  "nbformat_minor": 0,
  "metadata": {
    "colab": {
      "name": "01_Improving_Code_IntAdv.ipynb",
      "provenance": [],
      "collapsed_sections": [],
      "toc_visible": true,
      "authorship_tag": "ABX9TyPROL8CJpBDmesDnSjPLtqQ",
      "include_colab_link": true
    },
    "kernelspec": {
      "name": "python3",
      "display_name": "Python 3"
    }
  },
  "cells": [
    {
      "cell_type": "markdown",
      "metadata": {
        "id": "view-in-github",
        "colab_type": "text"
      },
      "source": [
        "<a href=\"https://colab.research.google.com/github/bvdboom/dsh-osw-effective-coding/blob/main/01_Improving_Code_IntAdv.ipynb\" target=\"_parent\"><img src=\"https://colab.research.google.com/assets/colab-badge.svg\" alt=\"Open In Colab\"/></a>"
      ]
    },
    {
      "cell_type": "markdown",
      "metadata": {
        "id": "XpK7u_7MvCAL"
      },
      "source": [
        "# A simple exercise\r\n",
        "Think about improvements to the snippets in the exercises below. Write down you suggestions somewhere or add new cells after the exercise code cells to add your improved code. We'll go through each group's findings after the breakout session. Since you can edit this notebook, but not save, nor will all the snippets work, it's also fine to write down keywords on what to improve. Think about improving the code itself, but also pay attention to coding conventions, such as the ones we've covered.\r\n",
        "\r\n",
        "The examples are Python code, but they should be readable for anyone more comfortable in R."
      ]
    },
    {
      "cell_type": "markdown",
      "metadata": {
        "id": "bwVwNIb6w64Q"
      },
      "source": [
        "# \\#1\r\n"
      ]
    },
    {
      "cell_type": "markdown",
      "metadata": {
        "id": "Mb1y86EcMCdG"
      },
      "source": [
        "Can you come up with a neater way of removing duplicates from a list? "
      ]
    },
    {
      "cell_type": "code",
      "metadata": {
        "id": "lp9pZt2fL8Ge"
      },
      "source": [
        "def remove_duplicates(lista):\r\n",
        "    list_a2 = []\r\n",
        "    for item in lista:\r\n",
        "        if item not in list_a2: \r\n",
        "            list_a2.append(item)\r\n",
        "    return list_a2"
      ],
      "execution_count": null,
      "outputs": []
    },
    {
      "cell_type": "markdown",
      "metadata": {
        "id": "FDl9aFuRu03l"
      },
      "source": [
        "# \\#2"
      ]
    },
    {
      "cell_type": "markdown",
      "metadata": {
        "id": "HfSzDErcxaJX"
      },
      "source": [
        "We're loading a dataframe and applying some operations. However, we've created multiple dataframes for each step. Is there a better way?"
      ]
    },
    {
      "cell_type": "code",
      "metadata": {
        "id": "ZjEyNRUZyCZK"
      },
      "source": [
        "df1 = pd.read_csv('btc-trades.csv')\r\n",
        "df2 = df1.dropna()\r\n",
        "df3 = df2.groupby('contract-type')"
      ],
      "execution_count": null,
      "outputs": []
    },
    {
      "cell_type": "markdown",
      "metadata": {
        "id": "4-7XldfLTaCt"
      },
      "source": [
        "A snippet related to the one above:"
      ]
    },
    {
      "cell_type": "code",
      "metadata": {
        "id": "VWpbLushTfZX"
      },
      "source": [
        "temp = 2 * (height + width)\r\n",
        "print(temp)\r\n",
        "temp = height * width\r\n",
        "print(temp)"
      ],
      "execution_count": null,
      "outputs": []
    },
    {
      "cell_type": "markdown",
      "metadata": {
        "id": "swjengVUzP-e"
      },
      "source": [
        "# \\#3"
      ]
    },
    {
      "cell_type": "markdown",
      "metadata": {
        "id": "2UHSaZ4Bz88j"
      },
      "source": [
        "Not wrong, but (apart from assigning `my_number` to 5) you can do this in oneline in Python."
      ]
    },
    {
      "cell_type": "code",
      "metadata": {
        "id": "cG-WJYZPx6P4"
      },
      "source": [
        "my_number = 5\r\n",
        "if my_number > 3:\r\n",
        "  return True\r\n",
        "else:\r\n",
        "  return False"
      ],
      "execution_count": null,
      "outputs": []
    },
    {
      "cell_type": "markdown",
      "metadata": {
        "id": "cuv54mdX0zaK"
      },
      "source": [
        "# \\#4\r\n",
        "\r\n",
        "We're iterating over a list, but we can do it in a more natural, Pythonic, fashion. \r\n",
        "\r\n",
        "`x` contains house prices."
      ]
    },
    {
      "cell_type": "code",
      "metadata": {
        "id": "lzPdrJB91fFB"
      },
      "source": [
        "x = [5e5, 2e6, 3e5]\r\n",
        "for i in range(len(x)):\r\n",
        "  print(x[i])"
      ],
      "execution_count": null,
      "outputs": []
    },
    {
      "cell_type": "markdown",
      "metadata": {
        "id": "zy8m5Taa1V-a"
      },
      "source": [
        "# \\#5"
      ]
    },
    {
      "cell_type": "markdown",
      "metadata": {
        "id": "-YgBhxllUuUD"
      },
      "source": [
        "Long if else statements are suboptimal. You can actually make a mapping to get rid of all the conditional statements. Can you come up with such a mapping?"
      ]
    },
    {
      "cell_type": "code",
      "metadata": {
        "id": "kI7NnZrUz_xE"
      },
      "source": [
        "if x == 4:\n",
        "    do_a()\n",
        "elif x == 5:\n",
        "    do_b()\n",
        "elif x == 6:\n",
        "    do_c()\n",
        "elif x == 7:\n",
        "    do_d()\n",
        "elif x == 8:\n",
        "    do_e()"
      ],
      "execution_count": null,
      "outputs": []
    },
    {
      "cell_type": "markdown",
      "metadata": {
        "id": "EwqT4GH01Ue_"
      },
      "source": [
        "# \\#6"
      ]
    },
    {
      "cell_type": "markdown",
      "metadata": {
        "id": "Xfuy1jflSHQk"
      },
      "source": [
        "Say you have a function that does something with solvability. Can you refactor this?"
      ]
    },
    {
      "cell_type": "code",
      "metadata": {
        "id": "pji-vgS-SBhq"
      },
      "source": [
        "def is_solvable(entity):\r\n",
        "    solvability = entity.solvency_ratio()\r\n",
        "    return solvability > 1.5"
      ],
      "execution_count": null,
      "outputs": []
    },
    {
      "cell_type": "markdown",
      "metadata": {
        "id": "qQizt1BA1UtC"
      },
      "source": [
        "# \\#7"
      ]
    },
    {
      "cell_type": "markdown",
      "metadata": {
        "id": "wi5Ja-xDUrns"
      },
      "source": [
        "The code below is not too bad when you do not have many conditionals. However, it becomes harder to read when you need to add more conditionals. How would you improve readability?"
      ]
    },
    {
      "cell_type": "code",
      "metadata": {
        "id": "dim7MJWXUN1r"
      },
      "source": [
        "if date.before(WINTER_START) or date.after(WINTER_END):\r\n",
        "    charge = quantity * summerRate + summerServiceCharge\r\n",
        "else:\r\n",
        "    charge = quantity * winterRate"
      ],
      "execution_count": null,
      "outputs": []
    },
    {
      "cell_type": "markdown",
      "metadata": {
        "id": "Y8ZTOmmd1U49"
      },
      "source": [
        "# \\#8"
      ]
    },
    {
      "cell_type": "markdown",
      "metadata": {
        "id": "vzAqRI7-WU32"
      },
      "source": [
        "It's better to avoid nest if-else statements, in any language. How can we avoid the nested loops?\r\n",
        "\r\n",
        "If you're not familiar with the word `self`, don't worry about it. You use it in defining methods for a class and it refers to the current instance of the class. "
      ]
    },
    {
      "cell_type": "code",
      "metadata": {
        "id": "qNcHpgHXU8oS"
      },
      "source": [
        "def getPayAmount(self):\r\n",
        "    if self.isDead:\r\n",
        "        result = deadAmount()\r\n",
        "    else:\r\n",
        "        if self.isSeparated:\r\n",
        "            result = separatedAmount()\r\n",
        "        else:\r\n",
        "            if self.isRetired:\r\n",
        "                result = retiredAmount()\r\n",
        "            else:\r\n",
        "                result = normalPayAmount()\r\n",
        "    return result"
      ],
      "execution_count": null,
      "outputs": []
    },
    {
      "cell_type": "markdown",
      "metadata": {
        "id": "TdvoCb1DqzTn"
      },
      "source": [
        "\r\n",
        "# \\#9\r\n"
      ]
    },
    {
      "cell_type": "markdown",
      "metadata": {
        "id": "6hjoKLZDuo79"
      },
      "source": [
        "If you're familiar with classes, you might be familiar with polymorphism: the ability of an object to take on many forms. This class does not use polymorphism. Can you come up with something similar to the example below?"
      ]
    },
    {
      "cell_type": "markdown",
      "metadata": {
        "id": "zkLUqz5hy_H3"
      },
      "source": [
        "<img src='https://www.w3schools.in/wp-content/uploads/2016/12/Polymorphism.png'>"
      ]
    },
    {
      "cell_type": "code",
      "metadata": {
        "id": "JdXQ45xsun6g"
      },
      "source": [
        "class Bird:\r\n",
        "    # ...\r\n",
        "    def getSpeed(self):\r\n",
        "        if self.type == EUROPEAN:\r\n",
        "            return self.getBaseSpeed()\r\n",
        "        elif self.type == AFRICAN:\r\n",
        "            return self.getBaseSpeed() - self.getLoadFactor() * self.numberOfCoconuts\r\n",
        "        elif self.type == NORWEGIAN_BLUE:\r\n",
        "            return 0 if self.isNailed else self.getBaseSpeed(self.voltage)\r\n",
        "        else:\r\n",
        "            raise Exception(\"Should be unreachable\")"
      ],
      "execution_count": null,
      "outputs": []
    },
    {
      "cell_type": "markdown",
      "metadata": {
        "id": "-ffYS2ZNqjzM"
      },
      "source": [
        "# \\#10"
      ]
    },
    {
      "cell_type": "markdown",
      "metadata": {
        "id": "Uc4_duAHreDC"
      },
      "source": [
        "One final beautiful real-world function in R. Write down some of your concerns/first thoughts. You don't have to rewrite anything &#128517;."
      ]
    },
    {
      "cell_type": "markdown",
      "metadata": {
        "id": "5GLgR6VYqnzH"
      },
      "source": [
        "```R\r\n",
        "Check_format_dates <- function(df = data, input_format = \"%d/%m/%Y\"){\r\n",
        "  \r\n",
        "  # Checking dates format\r\n",
        "  col_dates = colnames(df[,which(grepl(\"DATE\",colnames(df)))])\r\n",
        "  if(length(col_dates) == 0){cat(\"There is no column containing 'Date'\")}\r\n",
        "  else {\r\n",
        "    for(i in 1:length(col_dates)){\r\n",
        "      cat(\"The format of the column \", col_dates[i], \" is : \", class(df[,col_dates[i]]),\r\n",
        "          \"(eg. \", as.character(df[which(!is.na(df[,col_dates[i]])),][1,col_dates[i]]),\" ) \\n\")\r\n",
        "      \r\n",
        "      if(class(df[,col_dates[i]]) == \"character\" | class(df[,col_dates[i]]) == \"factor\"){\r\n",
        "        tmp = as.Date(as.character(df[,col_dates[i]]), input_format)\r\n",
        "        if(all(is.na(tmp)))\r\n",
        "          stop(paste0(\"The column \", col_dates[i], \" does not contain values, or the inputed format is \r\n",
        "                                    not the appropiate one, please check and run again the function \\n\"))\r\n",
        "        else{\r\n",
        "          df[,col_dates[i]] = tmp\r\n",
        "          cat(\"The format of the column \", col_dates[i], \" has been changed to a date\",\r\n",
        "              \"(eg. \", as.character(df[which(!is.na(df[,col_dates[i]])),][1,col_dates[i]]),\" )\\n\")\r\n",
        "        }\r\n",
        "      }\r\n",
        "      else{if(class(df[,col_dates[i]]) != \"Date\") stop(paste0(\"The format of the column \", col_dates[i], \r\n",
        "                                                              \" is unknown ==> Please check \\n\"))}\r\n",
        "    }\r\n",
        "  }\r\n",
        "  return(df)} # end of Check_format_dates()\r\n",
        "```"
      ]
    },
    {
      "cell_type": "code",
      "metadata": {
        "id": "63ouEWC7vR2n"
      },
      "source": [
        ""
      ],
      "execution_count": null,
      "outputs": []
    }
  ]
}
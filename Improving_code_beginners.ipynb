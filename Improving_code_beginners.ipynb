{
  "nbformat": 4,
  "nbformat_minor": 0,
  "metadata": {
    "colab": {
      "name": "Improving-code-beginners.ipynb",
      "provenance": [],
      "authorship_tag": "ABX9TyNoBYkdJ9cNDchAJXT31Y7Y",
      "include_colab_link": true
    },
    "kernelspec": {
      "name": "python3",
      "display_name": "Python 3"
    }
  },
  "cells": [
    {
      "cell_type": "markdown",
      "metadata": {
        "id": "view-in-github",
        "colab_type": "text"
      },
      "source": [
        "<a href=\"https://colab.research.google.com/github/bvdboom/dsh-osw-effective-coding/blob/main/Improving_code_beginners.ipynb\" target=\"_parent\"><img src=\"https://colab.research.google.com/assets/colab-badge.svg\" alt=\"Open In Colab\"/></a>"
      ]
    },
    {
      "cell_type": "markdown",
      "metadata": {
        "id": "XpK7u_7MvCAL"
      },
      "source": [
        "# A simple exercise\r\n",
        "Think about improvements to the snippets in the table below. Write down you suggestions somewhere. As we'll go through each group's findings after the breakout session. Since you cannot edit this notebook, it is okay if you write down keywords on what to improve. \r\n",
        "\r\n",
        "For clarity, you'll find the language of the snippet after the exercise number."
      ]
    },
    {
      "cell_type": "code",
      "metadata": {
        "id": "3CQNWLSlygZF"
      },
      "source": [
        ""
      ],
      "execution_count": null,
      "outputs": []
    },
    {
      "cell_type": "markdown",
      "metadata": {
        "id": "bwVwNIb6w64Q"
      },
      "source": [
        "# \\#1\r\n"
      ]
    },
    {
      "cell_type": "markdown",
      "metadata": {
        "id": "Wqh8tYm6yciZ"
      },
      "source": [
        "*Python*"
      ]
    },
    {
      "cell_type": "markdown",
      "metadata": {
        "id": "OQGvYTgZxH6D"
      },
      "source": [
        " `loan_tapes_2021.csv` contains a variety of columns including a date column (`ddmmyy`). How can we improve the time it takes to load the csv?"
      ]
    },
    {
      "cell_type": "code",
      "metadata": {
        "collapsed": true,
        "id": "MBFCizQmxBzN"
      },
      "source": [
        "# Code to be improved\r\n",
        "pd.read_csv(\"loan_tapes_2021.csv\")"
      ],
      "execution_count": null,
      "outputs": []
    },
    {
      "cell_type": "markdown",
      "metadata": {
        "id": "FDl9aFuRu03l"
      },
      "source": [
        "# \\#2"
      ]
    },
    {
      "cell_type": "markdown",
      "metadata": {
        "id": "9c80I_q9yh5M"
      },
      "source": [
        "*Python*"
      ]
    },
    {
      "cell_type": "markdown",
      "metadata": {
        "id": "HfSzDErcxaJX"
      },
      "source": [
        "We're loading a dataframe and applying some operations. However, we've created multiple dataframes for each step. Is there a better way?"
      ]
    },
    {
      "cell_type": "code",
      "metadata": {
        "id": "ZjEyNRUZyCZK"
      },
      "source": [
        "df1 = pd.read_csv('btc-trades.csv')\r\n",
        "df2 = df1.dropna()\r\n",
        "df3 = df2.groupby('contract-type')"
      ],
      "execution_count": null,
      "outputs": []
    },
    {
      "cell_type": "markdown",
      "metadata": {
        "id": "swjengVUzP-e"
      },
      "source": [
        "# \\#3"
      ]
    },
    {
      "cell_type": "markdown",
      "metadata": {
        "id": "E4S7WuF7z3fE"
      },
      "source": [
        "*Python*\r\n"
      ]
    },
    {
      "cell_type": "markdown",
      "metadata": {
        "id": "2UHSaZ4Bz88j"
      },
      "source": [
        "Not wrong, but (excluding assigning `a` to 5) you can do this in oneline in Python."
      ]
    },
    {
      "cell_type": "code",
      "metadata": {
        "id": "cG-WJYZPx6P4"
      },
      "source": [
        "a = 5\r\n",
        "if a > 3:\r\n",
        "  return True\r\n",
        "else:\r\n",
        "  return False"
      ],
      "execution_count": null,
      "outputs": []
    }
  ]
}
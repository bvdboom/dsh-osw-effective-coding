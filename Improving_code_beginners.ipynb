{
  "nbformat": 4,
  "nbformat_minor": 0,
  "metadata": {
    "colab": {
      "name": "Improving-code-beginners.ipynb",
      "provenance": [],
      "collapsed_sections": [],
      "authorship_tag": "ABX9TyM2+IDZridMQiFlTY4WA443",
      "include_colab_link": true
    },
    "kernelspec": {
      "name": "python3",
      "display_name": "Python 3"
    }
  },
  "cells": [
    {
      "cell_type": "markdown",
      "metadata": {
        "id": "view-in-github",
        "colab_type": "text"
      },
      "source": [
        "<a href=\"https://colab.research.google.com/github/bvdboom/dsh-osw-effective-coding/blob/main/Improving_code_beginners.ipynb\" target=\"_parent\"><img src=\"https://colab.research.google.com/assets/colab-badge.svg\" alt=\"Open In Colab\"/></a>"
      ]
    },
    {
      "cell_type": "markdown",
      "metadata": {
        "id": "XpK7u_7MvCAL"
      },
      "source": [
        "# A simple exercise\r\n",
        "Think about improvements to the snippets in the table below. Write down you suggestions somewhere. We'll go through each group's findings after the breakout session. Since you cannot edit this notebook, nor will all the snippets work, write down (keywords) on what to improve. Think about improving the code technically, but also with respect to coding conventions, such as the one we've covered.\r\n",
        "\r\n",
        "For clarity, you'll find the language of the snippet after the exercise number."
      ]
    },
    {
      "cell_type": "markdown",
      "metadata": {
        "id": "bwVwNIb6w64Q"
      },
      "source": [
        "# \\#1\r\n"
      ]
    },
    {
      "cell_type": "markdown",
      "metadata": {
        "id": "OQGvYTgZxH6D"
      },
      "source": [
        " `loan_tapes_2021.csv` contains a variety of columns including a date column (`ddmmyy`). How can we improve the time it takes to load the csv?"
      ]
    },
    {
      "cell_type": "code",
      "metadata": {
        "collapsed": true,
        "id": "MBFCizQmxBzN"
      },
      "source": [
        "# Code to be improved\r\n",
        "pd.read_csv(\"loan_tapes_2021.csv\")"
      ],
      "execution_count": null,
      "outputs": []
    },
    {
      "cell_type": "markdown",
      "metadata": {
        "id": "FDl9aFuRu03l"
      },
      "source": [
        "# \\#2"
      ]
    },
    {
      "cell_type": "markdown",
      "metadata": {
        "id": "HfSzDErcxaJX"
      },
      "source": [
        "We're loading a dataframe and applying some operations. However, we've created multiple dataframes for each step. Is there a better way?"
      ]
    },
    {
      "cell_type": "code",
      "metadata": {
        "id": "ZjEyNRUZyCZK"
      },
      "source": [
        "df1 = pd.read_csv('btc-trades.csv')\r\n",
        "df2 = df1.dropna()\r\n",
        "df3 = df2.groupby('contract-type')"
      ],
      "execution_count": null,
      "outputs": []
    },
    {
      "cell_type": "markdown",
      "metadata": {
        "id": "4-7XldfLTaCt"
      },
      "source": [
        "A snippet related to the one above:"
      ]
    },
    {
      "cell_type": "code",
      "metadata": {
        "id": "VWpbLushTfZX"
      },
      "source": [
        "temp = 2 * (height + width)\r\n",
        "print(temp)\r\n",
        "temp = height * width\r\n",
        "print(temp)"
      ],
      "execution_count": null,
      "outputs": []
    },
    {
      "cell_type": "markdown",
      "metadata": {
        "id": "swjengVUzP-e"
      },
      "source": [
        "# \\#3"
      ]
    },
    {
      "cell_type": "markdown",
      "metadata": {
        "id": "2UHSaZ4Bz88j"
      },
      "source": [
        "Not wrong, but (apart from assigning `my_number` to 5) you can do this in oneline in Python."
      ]
    },
    {
      "cell_type": "code",
      "metadata": {
        "id": "cG-WJYZPx6P4"
      },
      "source": [
        "my_number = 5\r\n",
        "if my_number > 3:\r\n",
        "  return True\r\n",
        "else:\r\n",
        "  return False"
      ],
      "execution_count": null,
      "outputs": []
    },
    {
      "cell_type": "markdown",
      "metadata": {
        "id": "cuv54mdX0zaK"
      },
      "source": [
        "# \\#4\r\n",
        "\r\n",
        "We're iterating over a list, but we can do it in a more natural, Pythonic, fashion. \r\n",
        "\r\n",
        "`x` contains house prices."
      ]
    },
    {
      "cell_type": "code",
      "metadata": {
        "colab": {
          "base_uri": "https://localhost:8080/"
        },
        "collapsed": true,
        "id": "lzPdrJB91fFB",
        "outputId": "642b81ba-34e7-46a7-9aaf-46b821fac263"
      },
      "source": [
        "x = [5e5, 2e6, 3e5]\r\n",
        "for i in range(len(x)):\r\n",
        "  print(x[i])"
      ],
      "execution_count": null,
      "outputs": [
        {
          "output_type": "stream",
          "text": [
            "500000.0\n",
            "2000000.0\n",
            "300000.0\n"
          ],
          "name": "stdout"
        }
      ]
    },
    {
      "cell_type": "markdown",
      "metadata": {
        "id": "zy8m5Taa1V-a"
      },
      "source": [
        "# \\#5"
      ]
    },
    {
      "cell_type": "markdown",
      "metadata": {
        "id": "wQoiSZrgPbmc"
      },
      "source": [
        "Let's load a file from a directory and apply some operations later on in the file. You need to share this file with a colleague later. Will your colleague be able to run this out of the box? Is there a better way?"
      ]
    },
    {
      "cell_type": "code",
      "metadata": {
        "id": "IKdR5s54Pppq"
      },
      "source": [
        "exchange_rates_eurusd = pd.read_csv(\"C:/Users/bernard/Documents/eurusd.csv\", parse_dates=['date'])"
      ],
      "execution_count": null,
      "outputs": []
    },
    {
      "cell_type": "markdown",
      "metadata": {
        "id": "EwqT4GH01Ue_"
      },
      "source": [
        "# \\#6"
      ]
    },
    {
      "cell_type": "markdown",
      "metadata": {
        "id": "Xfuy1jflSHQk"
      },
      "source": [
        "Say you have a function that does something with solvability. Can you refactor this?"
      ]
    },
    {
      "cell_type": "code",
      "metadata": {
        "id": "pji-vgS-SBhq"
      },
      "source": [
        "def is_solvable(entity):\r\n",
        "    solvability = entity.solvency_ratio()\r\n",
        "    return solvability > 1.5"
      ],
      "execution_count": null,
      "outputs": []
    },
    {
      "cell_type": "markdown",
      "metadata": {
        "id": "qQizt1BA1UtC"
      },
      "source": [
        "# \\#7"
      ]
    },
    {
      "cell_type": "markdown",
      "metadata": {
        "id": "wi5Ja-xDUrns"
      },
      "source": [
        "The code below is not too bad when you do not have many conditionals. However, it becomes harder to read when you need to add more conditionals. How would you improve readability?"
      ]
    },
    {
      "cell_type": "code",
      "metadata": {
        "id": "dim7MJWXUN1r"
      },
      "source": [
        "if date.before(WINTER_START) or date.after(WINTER_END):\r\n",
        "    charge = quantity * summerRate + summerServiceCharge\r\n",
        "else:\r\n",
        "    charge = quantity * winterRate"
      ],
      "execution_count": null,
      "outputs": []
    },
    {
      "cell_type": "markdown",
      "metadata": {
        "id": "Y8ZTOmmd1U49"
      },
      "source": [
        "# \\#8"
      ]
    },
    {
      "cell_type": "markdown",
      "metadata": {
        "id": "vzAqRI7-WU32"
      },
      "source": [
        "It's better to avoid nest if-else statements, in any language. How can we avoid the nested loops?\r\n",
        "\r\n",
        "If you're not familiar with the word `self`, don't worry about it. You use it in defining methods for a class and it refers to the current instance of the class. "
      ]
    },
    {
      "cell_type": "code",
      "metadata": {
        "id": "qNcHpgHXU8oS"
      },
      "source": [
        "def getPayAmount(self):\r\n",
        "    if self.isDead:\r\n",
        "        result = deadAmount()\r\n",
        "    else:\r\n",
        "        if self.isSeparated:\r\n",
        "            result = separatedAmount()\r\n",
        "        else:\r\n",
        "            if self.isRetired:\r\n",
        "                result = retiredAmount()\r\n",
        "            else:\r\n",
        "                result = normalPayAmount()\r\n",
        "    return result"
      ],
      "execution_count": null,
      "outputs": []
    }
  ]
}